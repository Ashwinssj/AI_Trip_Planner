{
 "cells": [
  {
   "cell_type": "code",
   "execution_count": 19,
   "id": "19106fb0",
   "metadata": {},
   "outputs": [
    {
     "name": "stdout",
     "output_type": "stream",
     "text": [
      "ok\n"
     ]
    }
   ],
   "source": [
    "print(\"ok\")"
   ]
  },
  {
   "cell_type": "code",
   "execution_count": 20,
   "id": "10bc9eb7",
   "metadata": {},
   "outputs": [],
   "source": [
    "from langchain_groq import ChatGroq"
   ]
  },
  {
   "cell_type": "code",
   "execution_count": 21,
   "id": "c57cc40c",
   "metadata": {},
   "outputs": [],
   "source": [
    "llm=ChatGroq(\n",
    "    model=\"deepseek-r1-distill-llama-70b\")"
   ]
  },
  {
   "cell_type": "code",
   "execution_count": 22,
   "id": "1504c4e1",
   "metadata": {},
   "outputs": [
    {
     "data": {
      "text/plain": [
       "AIMessage(content='<think>\\n\\n</think>\\n\\nHello! How can I assist you today? 😊', additional_kwargs={}, response_metadata={'token_usage': {'completion_tokens': 16, 'prompt_tokens': 4, 'total_tokens': 20, 'completion_time': 0.079783938, 'prompt_time': 6.7009e-05, 'queue_time': 0.053393242, 'total_time': 0.079850947}, 'model_name': 'deepseek-r1-distill-llama-70b', 'system_fingerprint': 'fp_1bbe7845ec', 'finish_reason': 'stop', 'logprobs': None}, id='run--58e165a6-f81f-456f-b879-296e69e0e42f-0', usage_metadata={'input_tokens': 4, 'output_tokens': 16, 'total_tokens': 20})"
      ]
     },
     "execution_count": 22,
     "metadata": {},
     "output_type": "execute_result"
    }
   ],
   "source": [
    "llm.invoke(\"hi\")"
   ]
  },
  {
   "cell_type": "code",
   "execution_count": 25,
   "id": "4601c368",
   "metadata": {},
   "outputs": [],
   "source": [
    "from langchain.tools import Tool"
   ]
  },
  {
   "cell_type": "code",
   "execution_count": 26,
   "id": "5e68e320",
   "metadata": {},
   "outputs": [],
   "source": [
    "@tool\n",
    "def multiply(x: int, y: int) -> int:\n",
    "    \"\"\"\n",
    "    Multiplies two integers.\n",
    "    \n",
    "    Args:\n",
    "        x (int): The first integer.\n",
    "        y (int): The second integer.\n",
    "\n",
    "    Returns:\n",
    "        int: The product of x and y.\n",
    "    \"\"\"\n",
    "    return x * y\n"
   ]
  },
  {
   "cell_type": "code",
   "execution_count": 29,
   "id": "8a180f0a",
   "metadata": {},
   "outputs": [
    {
     "data": {
      "text/plain": [
       "StructuredTool(name='multiply', description='Multiplies two integers.\\n\\nArgs:\\n    x (int): The first integer.\\n    y (int): The second integer.\\n\\nReturns:\\n    int: The product of x and y.', args_schema=<class 'langchain_core.utils.pydantic.multiply'>, func=<function multiply at 0x0000012D3BC89620>)"
      ]
     },
     "execution_count": 29,
     "metadata": {},
     "output_type": "execute_result"
    }
   ],
   "source": [
    "multiply"
   ]
  },
  {
   "cell_type": "code",
   "execution_count": 28,
   "id": "d6b1726c",
   "metadata": {},
   "outputs": [],
   "source": [
    "from langchain.tools import StructuredTool"
   ]
  },
  {
   "cell_type": "code",
   "execution_count": null,
   "id": "58b97dc8",
   "metadata": {},
   "outputs": [],
   "source": [
    "class WeatherInput(BaseModel):\n",
    "    city: str "
   ]
  },
  {
   "cell_type": "code",
   "execution_count": null,
   "id": "5df4c00c",
   "metadata": {},
   "outputs": [],
   "source": [
    "def get_weather(city: str) -> str:\n",
    "    \"\"\"\n",
    "    Fetches the current weather for a given city.\n",
    "    \n",
    "    Args:\n",
    "        city (str): The name of the city to fetch the weather for.\n",
    "\n",
    "    Returns:\n",
    "        str: A string containing the current weather information.\n",
    "    \"\"\"\n",
    "    # Placeholder implementation\n",
    "    return f\"The weather in {city} is sunny.\""
   ]
  },
  {
   "cell_type": "code",
   "execution_count": null,
   "id": "17a2d857",
   "metadata": {},
   "outputs": [],
   "source": [
    "weather_tool = StructuredTool.from_function(\n",
    "    func=get_weather,\n",
    "    name=\"get_weather\",\n",
    "    description=\"Fetches real-time weather data for a city.\",   \n",
    "    args_schema=WeatherInput,\n",
    "\n",
    ")"
   ]
  },
  {
   "cell_type": "code",
   "execution_count": null,
   "id": "e4fb0d5f",
   "metadata": {},
   "outputs": [],
   "source": [
    "class WeatherInput(BaseModel):\n",
    "    city: str = Field(\n",
    "        description=\"City name\")\n",
    "    units: str = Field(\"metric\",description=\"metric or imperial\")\n",
    "        \n",
    "    class GetWeatherTool(StructuredTool):\n",
    "        name: ClassVar[str] = \"get_weather\"\n",
    "        description: Classvar[str] = (\n",
    "            \"Fetches weather data for a city\"\n",
    "        )\n",
    "        args_schema: ClassVar[Type[BaseModel]] = WeatherInput\n",
    "        def _run(self, city: str, units: str = \"metric\"):\n",
    "            return get_weather(city, units)\n",
    "        "
   ]
  }
 ],
 "metadata": {
  "kernelspec": {
   "display_name": "env",
   "language": "python",
   "name": "python3"
  },
  "language_info": {
   "codemirror_mode": {
    "name": "ipython",
    "version": 3
   },
   "file_extension": ".py",
   "mimetype": "text/x-python",
   "name": "python",
   "nbconvert_exporter": "python",
   "pygments_lexer": "ipython3",
   "version": "3.11.9"
  }
 },
 "nbformat": 4,
 "nbformat_minor": 5
}
